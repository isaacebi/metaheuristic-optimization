{
  "nbformat": 4,
  "nbformat_minor": 0,
  "metadata": {
    "colab": {
      "name": "Metaheuristic_Optimization.ipynb",
      "provenance": [],
      "authorship_tag": "ABX9TyN3hdJrtJDMtZ6Ft8f9FNce",
      "include_colab_link": true
    },
    "kernelspec": {
      "name": "python3",
      "display_name": "Python 3"
    },
    "language_info": {
      "name": "python"
    }
  },
  "cells": [
    {
      "cell_type": "markdown",
      "metadata": {
        "id": "view-in-github",
        "colab_type": "text"
      },
      "source": [
        "<a href=\"https://colab.research.google.com/github/isaacebi/metaheuristic-optimization/blob/main/Metaheuristic_Optimization.ipynb\" target=\"_parent\"><img src=\"https://colab.research.google.com/assets/colab-badge.svg\" alt=\"Open In Colab\"/></a>"
      ]
    },
    {
      "cell_type": "code",
      "execution_count": 27,
      "metadata": {
        "id": "YASjXyilqphF"
      },
      "outputs": [],
      "source": [
        "#%% import\n",
        "import pandas as pd\n",
        "import numpy as np\n",
        "import matplotlib.pyplot as plt\n",
        "import math\n"
      ]
    },
    {
      "cell_type": "markdown",
      "source": [
        "### Score plot"
      ],
      "metadata": {
        "id": "R_7jjL8Z_5Hc"
      }
    },
    {
      "cell_type": "code",
      "source": [
        "def plot_converge(gwo_curve):\n",
        "  \n",
        "  x = np.arange(gwo_curve.shape[1])\n",
        "  y = gwo_curve[0, :]\n",
        "  plt.plot(x, y)\n",
        "  plt.ylabel('Best score')\n",
        "  plt.xlabel('Iteration')\n",
        "  plt.show()"
      ],
      "metadata": {
        "id": "_RGfl68h_8gI"
      },
      "execution_count": 28,
      "outputs": []
    },
    {
      "cell_type": "markdown",
      "source": [
        "### Test Function"
      ],
      "metadata": {
        "id": "seGZ2vIlvzbe"
      }
    },
    {
      "cell_type": "code",
      "source": [
        "#%% Get_Functions\n",
        "def get_function(F):\n",
        "  \n",
        "  # test function\n",
        "  def F17(x):\n",
        "      o = (x[:,1] - (x[:,0]**2) * 5.1 / (4 * (math.pi**2)) + 5 /math.pi * x[:,0] - 6) ** 2 + 10 * (1 - 1/(8*math.pi)) *math.cos(x[:,0]) + 10\n",
        "      return o\n",
        "\n",
        "  # select function\n",
        "  if F == \"F17\":\n",
        "      fobj = F17\n",
        "      lb = np.array([-5, 0]).reshape(1,-1)\n",
        "      ub = np.array([10, 15]).reshape(1,-1)\n",
        "      dim = 2\n",
        "      return [lb, ub, dim, fobj]"
      ],
      "metadata": {
        "id": "-JRRiZ8-rGti"
      },
      "execution_count": 29,
      "outputs": []
    },
    {
      "cell_type": "markdown",
      "source": [
        "### Initilization agents"
      ],
      "metadata": {
        "id": "jOzC8ulB_oE2"
      }
    },
    {
      "cell_type": "code",
      "source": [
        "#%% Initialization\n",
        "def initialization(search_agent, dim, ub, lb):\n",
        "  \n",
        "  # be sure to that ub, lb in 2d numpy array\n",
        "  position = np.zeros((search_agent, dim))\n",
        "\n",
        "  boundary_no = ub.shape[1]\n",
        "\n",
        "  # if boundary equall\n",
        "  if boundary_no == 1:\n",
        "      position = np.random.rand(search_agent, dim) * (ub-lb) + lb\n",
        "\n",
        "  if boundary_no > 1:\n",
        "      for i in range(dim):\n",
        "          ub_i = ub[:, i]\n",
        "          lb_i = lb[:, i]\n",
        "          position[:, i] = (np.random.rand(search_agent, 1) * (ub_i-lb_i) + lb_i).reshape(1,-1)\n",
        "\n",
        "  return position"
      ],
      "metadata": {
        "id": "tCCYMckSx6av"
      },
      "execution_count": 30,
      "outputs": []
    },
    {
      "cell_type": "markdown",
      "source": [
        "### Grey Wolf Optimizer"
      ],
      "metadata": {
        "id": "zUltxE4__siW"
      }
    },
    {
      "cell_type": "code",
      "source": [
        "#%% GWO\n",
        "def GWO(search_agent, max_iter, lb, ub, dim, fobj):\n",
        "\n",
        "  # initialize alpha, beta, delta\n",
        "  alpha_pos = np.zeros(dim)\n",
        "  alpha_score = float('inf')\n",
        "\n",
        "  beta_pos = np.zeros(dim)\n",
        "  beta_score = float('inf')\n",
        "\n",
        "  delta_pos = np.zeros(dim)\n",
        "  delta_score = float('inf')\n",
        "\n",
        "  # initialize the position of search agents\n",
        "  position = initialization(search_agent, dim, ub, lb)\n",
        "\n",
        "  # convergence curve\n",
        "  convergence_curve = np.zeros(max_iter).reshape(1,-1)\n",
        "\n",
        "  l = 0 # loop counter\n",
        "\n",
        "  while l < max_iter:\n",
        "      for i in range(position.shape[0]):\n",
        "\n",
        "          # return back the search agent beyond the boundaries of search space\n",
        "          flag4ub = position[i, :] > ub\n",
        "          flag4lb = position[i, :] < lb\n",
        "          position[i, :] = (position[i, :] * np.logical_not(flag4ub+flag4lb).astype(int)) + ub * flag4ub + lb * flag4lb\n",
        "\n",
        "          fitness = fobj(position[i, :].reshape(1,-1))\n",
        "\n",
        "          # update alpha, beta, and delta\n",
        "          if fitness < alpha_score:\n",
        "              alpha_score = fitness # update alpha\n",
        "              alpha_pos = position[i, :].reshape(1,-1)\n",
        "\n",
        "          if fitness > alpha_score and fitness < beta_score:\n",
        "              beta_score = fitness\n",
        "              beta_pos = position[i, :].reshape(1,-1)\n",
        "\n",
        "          if fitness > alpha_score and fitness > beta_score and fitness < delta_score:\n",
        "              delta_score = fitness\n",
        "              delta_pos = position[i, :].reshape(1,-1)\n",
        "\n",
        "      \n",
        "\n",
        "      a = 2 - l * (2 / max_iter) # variable a decreases linearly fron 2 to 0\n",
        "\n",
        "      # update the position of search agents including omega\n",
        "      for i in range(position.shape[0]):\n",
        "          for j in range(position.shape[1]):\n",
        "\n",
        "              r1 = np.random.rand() # random number in [0,1]\n",
        "              r2 = np.random.rand() # random number in [0,1]\n",
        "\n",
        "              A1 = 2 * a * r1 - a # Equation (3.3)\n",
        "              C1 = 2 * r2 # Equation (3.4)\n",
        "\n",
        "              D_alpha = np.absolute(C1 * alpha_pos[:, j] - position[i, j]) # Equation (3.5)-part 1\n",
        "              X1 = alpha_pos[:, j] - A1 * D_alpha # Equation (3.6)-part 1\n",
        "\n",
        "\n",
        "              r1 = np.random.rand() # random number in [0,1]\n",
        "              r2 = np.random.rand() # random number in [0,1]\n",
        "\n",
        "              A2 = 2 * a * r1 - a # Equation (3.3)\n",
        "              C2 = 2 * r2 # Equation (3.4)\n",
        "\n",
        "              D_beta = np.absolute(C2 * beta_pos[:, j] - position[i, j]) # Equation (3.5)-part 2\n",
        "              X2 = beta_pos[:, j] - A2 * D_beta # Equation (3.6)-part 2\n",
        "\n",
        "\n",
        "              r1 = np.random.rand() # random number in [0,1]\n",
        "              r2 = np.random.rand() # random number in [0,1]\n",
        "\n",
        "              A3 = 2 * a * r1 - a # Equation (3.3)\n",
        "              C3 = 2 * r2 # Equation (3.4)\n",
        "\n",
        "              D_delta = np.absolute(C3 * delta_pos[:, j] - position[i, j]) # Equation (3.5)-part 3\n",
        "              X3 = delta_pos[:, j] - A3 * D_delta # Equation (3.6)-part 3\n",
        "\n",
        "              position[i, j] = (X1 + X2 + X3) / 3\n",
        "\n",
        "      convergence_curve[:, l] = alpha_score\n",
        "      l += 1\n",
        "      \n",
        "\n",
        "  return [alpha_score, alpha_pos, convergence_curve]"
      ],
      "metadata": {
        "id": "xzE2X6Rhv4nq"
      },
      "execution_count": 31,
      "outputs": []
    },
    {
      "cell_type": "markdown",
      "source": [
        "# Main Function"
      ],
      "metadata": {
        "id": "D5O79ChsrHBP"
      }
    },
    {
      "cell_type": "code",
      "source": [
        "#%% Variables\n",
        "\n",
        "# seed for repeatable results\n",
        "seed_gen = 1234\n",
        "\n",
        "# initialization for agent\n",
        "search_agent = 30\n",
        "function_name = 'F17'\n",
        "max_iter = 100\n",
        "\n",
        "# test function\n",
        "[lb, ub, dim, fobj] = get_function(function_name)\n",
        "\n",
        "# check lb, ub type\n",
        "if not isinstance(lb, np.ndarray) or not isinstance(ub, np.ndarray):\n",
        "    raise TypeError('Expected ub and lb to be in 2d numpy matrix')"
      ],
      "metadata": {
        "id": "s0bsbOA2qyoq"
      },
      "execution_count": 32,
      "outputs": []
    },
    {
      "cell_type": "markdown",
      "source": [
        "## Using GWO"
      ],
      "metadata": {
        "id": "URLKo8VkA-Mh"
      }
    },
    {
      "cell_type": "code",
      "source": [
        "np.random.seed(seed_gen) # for repeatable results\n",
        "[best_score, best_pos, gwo_curve] = GWO(search_agent, max_iter, lb, ub, dim, fobj)\n",
        "\n",
        "plot_converge(gwo_curve)"
      ],
      "metadata": {
        "id": "ypSFK_n3_Au8",
        "colab": {
          "base_uri": "https://localhost:8080/",
          "height": 279
        },
        "outputId": "33d603ee-2406-46f2-dfb9-7929139c4c91"
      },
      "execution_count": 33,
      "outputs": [
        {
          "output_type": "display_data",
          "data": {
            "text/plain": [
              "<Figure size 432x288 with 1 Axes>"
            ],
            "image/png": "[encoded data removed]"
          },
          "metadata": {
            "needs_background": "light"
          }
        }
      ]
    }
  ]
}